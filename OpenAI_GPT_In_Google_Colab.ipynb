{
  "cells": [
    {
      "attachments": {},
      "cell_type": "markdown",
      "metadata": {
        "id": "3iLGOKrghfKG"
      },
      "source": [
        "# Using  OpenAI GPT API in google colab for language detection\n",
        "\n",
        "\n",
        "\n",
        "By Mohammed ([@momen_ai](https://twitter.com/momen_ai))\n",
        "\n",
        "---\n",
        "This Colab Notebook provides an implementation of a function, detect_language_text, which uses the OpenAI GPT API to detect the language of a given text. The function takes in a text string as input and returns the name of the language that the text is written in. This notebook can be useful for anyone who needs to programmatically detect the language of a given text, especially when dealing with multilingual data. You will need a key use use ChatGpt:\n",
        "[Click here for get openai.api_key  ](https://platform.openai.com/account/api-keys)\n"
      ]
    },
    {
      "cell_type": "code",
      "execution_count": 19,
      "metadata": {
        "id": "lMQ1FxidZLKO"
      },
      "outputs": [],
      "source": [
        "!pip install -q openai "
      ]
    },
    {
      "cell_type": "code",
      "execution_count": null,
      "metadata": {
        "id": "8ZIqoihaZWhg"
      },
      "outputs": [],
      "source": [
        "import openai\n",
        "\n",
        "# openai.api_key = \"YOUR_API_KEY\"\n",
        "openai.api_key = \"\""
      ]
    },
    {
      "cell_type": "markdown",
      "metadata": {
        "id": "M6-pPWcelV8c"
      },
      "source": [
        "\n",
        "\n",
        "> Indented block\n",
        "\n"
      ]
    },
    {
      "cell_type": "code",
      "execution_count": null,
      "metadata": {
        "id": "7k76GG00Z7_B"
      },
      "outputs": [],
      "source": [
        "def detect_language_text(text):\n",
        "    prompt = \"Please detect and return the name of  the language(if there are two or more, return them all repectively)  only of the following text:\\n\\n\"\n",
        "    prompt += f\"{text}\\n\"\n",
        "\n",
        "    response = openai.Completion.create(\n",
        "        engine=\"text-davinci-003\",\n",
        "        prompt=prompt,\n",
        "        max_tokens=50,\n",
        "        n=1,\n",
        "        stop=None,\n",
        "        temperature=0.0,\n",
        "    )\n",
        "\n",
        "    language = response.choices[0].text.strip()\n",
        "    \n",
        "    return language"
      ]
    },
    {
      "cell_type": "code",
      "execution_count": null,
      "metadata": {
        "colab": {
          "base_uri": "https://localhost:8080/",
          "height": 36
        },
        "id": "GK0sNVpJkq__",
        "outputId": "9047bd57-12d5-41af-a4e5-3ad12c29cb8a"
      },
      "outputs": [
        {
          "data": {
            "application/vnd.google.colaboratory.intrinsic+json": {
              "type": "string"
            },
            "text/plain": [
              "'Greek'"
            ]
          },
          "execution_count": 4,
          "metadata": {},
          "output_type": "execute_result"
        }
      ],
      "source": [
        "detect_language_text(\"gnothi sauton\")"
      ]
    },
    {
      "cell_type": "code",
      "execution_count": null,
      "metadata": {
        "colab": {
          "base_uri": "https://localhost:8080/",
          "height": 36
        },
        "id": "_lKY7q_tk4AQ",
        "outputId": "12190dbc-f63c-49b9-c41a-7ca77b24b0dd"
      },
      "outputs": [
        {
          "data": {
            "application/vnd.google.colaboratory.intrinsic+json": {
              "type": "string"
            },
            "text/plain": [
              "'French'"
            ]
          },
          "execution_count": 5,
          "metadata": {},
          "output_type": "execute_result"
        }
      ],
      "source": [
        "detect_language_text(\"si tu pense je te suis\" )"
      ]
    },
    {
      "cell_type": "code",
      "execution_count": null,
      "metadata": {
        "colab": {
          "base_uri": "https://localhost:8080/",
          "height": 36
        },
        "id": "I4LE8DfpaXc1",
        "outputId": "5149c09e-9dd9-4a55-969a-2c23c5c745df"
      },
      "outputs": [
        {
          "data": {
            "application/vnd.google.colaboratory.intrinsic+json": {
              "type": "string"
            },
            "text/plain": [
              "'Arabic, Turkish, English'"
            ]
          },
          "execution_count": 6,
          "metadata": {},
          "output_type": "execute_result"
        }
      ],
      "source": [
        "detect_language_text(\"كيف حالك اليوم؟ ,her gün gibi, Great!\")"
      ]
    },
    {
      "cell_type": "code",
      "execution_count": null,
      "metadata": {
        "colab": {
          "base_uri": "https://localhost:8080/",
          "height": 36
        },
        "id": "MyzJouTTjbZS",
        "outputId": "616adb51-f87e-4906-8105-354d777d5bc4"
      },
      "outputs": [
        {
          "data": {
            "application/vnd.google.colaboratory.intrinsic+json": {
              "type": "string"
            },
            "text/plain": [
              "'Turkish, Arabic, English'"
            ]
          },
          "execution_count": 7,
          "metadata": {},
          "output_type": "execute_result"
        }
      ],
      "source": [
        "detect_language_text(\"Merhaba, مرحبا, Hi\")"
      ]
    },
    {
      "cell_type": "code",
      "execution_count": null,
      "metadata": {
        "colab": {
          "base_uri": "https://localhost:8080/",
          "height": 36
        },
        "id": "-PMpl_sdbaRB",
        "outputId": "aa3f0c92-c1f8-4188-9955-675a141095f8"
      },
      "outputs": [
        {
          "data": {
            "application/vnd.google.colaboratory.intrinsic+json": {
              "type": "string"
            },
            "text/plain": [
              "'Arabic'"
            ]
          },
          "execution_count": 8,
          "metadata": {},
          "output_type": "execute_result"
        }
      ],
      "source": [
        "detect_language_text(\"التعليم شمعة تضئ لك درب الحياة\")"
      ]
    },
    {
      "cell_type": "code",
      "execution_count": null,
      "metadata": {
        "colab": {
          "base_uri": "https://localhost:8080/",
          "height": 36
        },
        "id": "DNbF4gZKbc9M",
        "outputId": "b04eb3c8-80fa-4ce0-efa1-719c79765a81"
      },
      "outputs": [
        {
          "data": {
            "application/vnd.google.colaboratory.intrinsic+json": {
              "type": "string"
            },
            "text/plain": [
              "'Persian'"
            ]
          },
          "execution_count": 9,
          "metadata": {},
          "output_type": "execute_result"
        }
      ],
      "source": [
        "detect_language_text(\" باور نكن تنهاييت را من در تو بنهانم .. تو در من\")"
      ]
    },
    {
      "cell_type": "code",
      "execution_count": null,
      "metadata": {
        "colab": {
          "base_uri": "https://localhost:8080/",
          "height": 36
        },
        "id": "sW2Uy9FIeQEu",
        "outputId": "08c48772-d8dd-4f94-eba9-51ff85757b82"
      },
      "outputs": [
        {
          "data": {
            "application/vnd.google.colaboratory.intrinsic+json": {
              "type": "string"
            },
            "text/plain": [
              "'French'"
            ]
          },
          "execution_count": 10,
          "metadata": {},
          "output_type": "execute_result"
        }
      ],
      "source": [
        "detect_language_text(\"La vie est une fleur dont l'amour est le miel.\")"
      ]
    },
    {
      "cell_type": "code",
      "execution_count": null,
      "metadata": {
        "colab": {
          "base_uri": "https://localhost:8080/",
          "height": 36
        },
        "id": "iKX5DkWHfyQs",
        "outputId": "f93d3f98-6c31-4d3b-e5b0-a764fc8bc810"
      },
      "outputs": [
        {
          "data": {
            "application/vnd.google.colaboratory.intrinsic+json": {
              "type": "string"
            },
            "text/plain": [
              "'Spanish'"
            ]
          },
          "execution_count": 11,
          "metadata": {},
          "output_type": "execute_result"
        }
      ],
      "source": [
        "detect_language_text(\"El amor es la alegría de los buenos, la reflexión de los sabios, el asombro de los incrédulos.\")"
      ]
    },
    {
      "cell_type": "code",
      "execution_count": null,
      "metadata": {
        "colab": {
          "base_uri": "https://localhost:8080/",
          "height": 36
        },
        "id": "3XrmWeJkf1wU",
        "outputId": "50a5480f-fd86-47a8-fef7-2c1fe761efd3"
      },
      "outputs": [
        {
          "data": {
            "application/vnd.google.colaboratory.intrinsic+json": {
              "type": "string"
            },
            "text/plain": [
              "'German'"
            ]
          },
          "execution_count": 12,
          "metadata": {},
          "output_type": "execute_result"
        }
      ],
      "source": [
        "detect_language_text(\"Das Schönste, was wir erleben können, ist das Geheimnisvolle.\")"
      ]
    },
    {
      "cell_type": "code",
      "execution_count": null,
      "metadata": {
        "colab": {
          "base_uri": "https://localhost:8080/",
          "height": 36
        },
        "id": "gRWGF_Mvf3W_",
        "outputId": "3120978f-28cc-456b-b986-a79218262ba6"
      },
      "outputs": [
        {
          "data": {
            "application/vnd.google.colaboratory.intrinsic+json": {
              "type": "string"
            },
            "text/plain": [
              "'Italian'"
            ]
          },
          "execution_count": 13,
          "metadata": {},
          "output_type": "execute_result"
        }
      ],
      "source": [
        "detect_language_text(\"La vita è un sogno, ma sognare non basta.\")"
      ]
    },
    {
      "cell_type": "code",
      "execution_count": null,
      "metadata": {
        "colab": {
          "base_uri": "https://localhost:8080/",
          "height": 36
        },
        "id": "D9uEUg9Ff5WD",
        "outputId": "d3c71164-615b-4285-b309-1b82a336444a"
      },
      "outputs": [
        {
          "data": {
            "application/vnd.google.colaboratory.intrinsic+json": {
              "type": "string"
            },
            "text/plain": [
              "'Japanese'"
            ]
          },
          "execution_count": 14,
          "metadata": {},
          "output_type": "execute_result"
        }
      ],
      "source": [
        "detect_language_text(\"美しさは、心のうちにあるものであり、目に見えるものではない。\")"
      ]
    },
    {
      "cell_type": "code",
      "execution_count": null,
      "metadata": {
        "colab": {
          "base_uri": "https://localhost:8080/",
          "height": 36
        },
        "id": "LrzHXEhwf_8N",
        "outputId": "a7568f76-c379-4115-b0a3-864388db0012"
      },
      "outputs": [
        {
          "data": {
            "application/vnd.google.colaboratory.intrinsic+json": {
              "type": "string"
            },
            "text/plain": [
              "'Russian'"
            ]
          },
          "execution_count": 15,
          "metadata": {},
          "output_type": "execute_result"
        }
      ],
      "source": [
        "detect_language_text(\"Жизнь прекрасна, если не боишься ее жить.\")"
      ]
    },
    {
      "cell_type": "code",
      "execution_count": null,
      "metadata": {
        "colab": {
          "base_uri": "https://localhost:8080/",
          "height": 36
        },
        "id": "q8P5dL8ggBrL",
        "outputId": "ec832a30-e112-4e9f-fcb8-e651cbad5a99"
      },
      "outputs": [
        {
          "data": {
            "application/vnd.google.colaboratory.intrinsic+json": {
              "type": "string"
            },
            "text/plain": [
              "'Portuguese'"
            ]
          },
          "execution_count": 16,
          "metadata": {},
          "output_type": "execute_result"
        }
      ],
      "source": [
        "detect_language_text(\"Não corrigir nossas faltas é o mesmo que cometer novos erros.\")"
      ]
    },
    {
      "cell_type": "code",
      "execution_count": null,
      "metadata": {
        "colab": {
          "base_uri": "https://localhost:8080/",
          "height": 36
        },
        "id": "unDKiTwugGjW",
        "outputId": "7b486899-3e61-4455-b064-5d07037ebaad"
      },
      "outputs": [
        {
          "data": {
            "application/vnd.google.colaboratory.intrinsic+json": {
              "type": "string"
            },
            "text/plain": [
              "'Persian'"
            ]
          },
          "execution_count": 17,
          "metadata": {},
          "output_type": "execute_result"
        }
      ],
      "source": [
        "detect_language_text(\"دوست داشتن تنها نیست، بلکه احترام همراه دوستی است.\")"
      ]
    },
    {
      "cell_type": "code",
      "execution_count": null,
      "metadata": {
        "colab": {
          "base_uri": "https://localhost:8080/",
          "height": 36
        },
        "id": "8gVTRG_GgwMK",
        "outputId": "2425f646-0f18-474d-d499-e43c1201dcc2"
      },
      "outputs": [
        {
          "data": {
            "application/vnd.google.colaboratory.intrinsic+json": {
              "type": "string"
            },
            "text/plain": [
              "'Urdu'"
            ]
          },
          "execution_count": 18,
          "metadata": {},
          "output_type": "execute_result"
        }
      ],
      "source": [
        "detect_language_text(\"خود کو نئیں پردہ دینا چاہئے، لوگوں کے لئے خود کو بدلنا پڑتا ہے۔\")"
      ]
    },
    {
      "cell_type": "code",
      "execution_count": null,
      "metadata": {
        "id": "BcxHft6Gw8WK"
      },
      "outputs": [],
      "source": []
    }
  ],
  "metadata": {
    "colab": {
      "provenance": []
    },
    "kernelspec": {
      "display_name": "Python 3",
      "name": "python3"
    },
    "language_info": {
      "name": "python"
    }
  },
  "nbformat": 4,
  "nbformat_minor": 0
}
